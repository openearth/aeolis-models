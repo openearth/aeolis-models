{
 "cells": [
  {
   "cell_type": "code",
   "execution_count": 24,
   "metadata": {
    "collapsed": false
   },
   "outputs": [
    {
     "name": "stdout",
     "output_type": "stream",
     "text": [
      "Populating the interactive namespace from numpy and matplotlib\n"
     ]
    }
   ],
   "source": [
    "%pylab inline\n",
    "import numpy as np\n",
    "import pandas as pd\n",
    "import matplotlib.pyplot as plt\n",
    "import os\n"
   ]
  },
  {
   "cell_type": "code",
   "execution_count": 79,
   "metadata": {
    "collapsed": false
   },
   "outputs": [
    {
     "data": {
      "text/plain": [
       "'20160815'"
      ]
     },
     "execution_count": 79,
     "metadata": {},
     "output_type": "execute_result"
    }
   ],
   "source": [
    "file_list[i][6:14]"
   ]
  },
  {
   "cell_type": "code",
   "execution_count": 82,
   "metadata": {
    "collapsed": false
   },
   "outputs": [
    {
     "ename": "SyntaxError",
     "evalue": "invalid syntax (<ipython-input-82-43d51cf88062>, line 9)",
     "output_type": "error",
     "traceback": [
      "\u001b[1;36m  File \u001b[1;32m\"<ipython-input-82-43d51cf88062>\"\u001b[1;36m, line \u001b[1;32m9\u001b[0m\n\u001b[1;33m    for i in range(1:#len(file_list)):\u001b[0m\n\u001b[1;37m                    ^\u001b[0m\n\u001b[1;31mSyntaxError\u001b[0m\u001b[1;31m:\u001b[0m invalid syntax\n"
     ]
    }
   ],
   "source": [
    "#cwd = os.getcwd()\n",
    "#os.path.join(cwd,r'TopoBathy\\timeseries_line29\\topo')\n",
    "file_dir = os.path.join(os.getcwd(),r'TopoBathy\\timeseries_line29\\topo')\n",
    "file_list = os.listdir(file_dir)\n",
    "\n",
    "bathy_fname = r'.\\TopoBathy\\timeseries_line29\\bathy\\sedex_20160802_line029.XYZ'\n",
    "bathy = pd.read_csv(bathy_fname,sep='\\t',names=['x','y','z'])\n",
    "\n",
    "for i in range(len(file_list)):\n",
    "    topo_fname = os.path.join(file_dir,file_list[i])\n",
    "    topo = pd.read_csv(topo_fname,sep=' ',names=['x','y','z'])\n",
    "    plt.figure(figsize(5,3))\n",
    "    plt.plot(bathy.x,bathy.z)\n",
    "    plt.plot(topo.x,topo.z)\n",
    "    plt.ylim(-12,6)\n",
    "    plt.xlim(224500,227000)\n",
    "    plt.title('topo_' + file_list[i][6:14])\n",
    "    plt.savefig(os.path.join(os.getcwd(),r'TopoBathy\\timeseries_line29','test%i.png' % i),dpi=600)\n",
    "    plt.close\n",
    "\n",
    "\n",
    "    \n",
    "\n",
    "    "
   ]
  },
  {
   "cell_type": "code",
   "execution_count": 150,
   "metadata": {
    "collapsed": false
   },
   "outputs": [
    {
     "data": {
      "image/png": "[encoded data removed]",
      "text/plain": [
       "<matplotlib.figure.Figure at 0xfa904e0>"
      ]
     },
     "metadata": {},
     "output_type": "display_data"
    }
   ],
   "source": [
    "#plt.figure(figsize(5,3))\n",
    "#plt.plot(bathy.x,bathy.z)\n",
    "#plt.plot(topo.x,topo.z)\n",
    "#plt.ylim(-2,6)\n",
    "#plt.xlim(226500,227000)\n",
    "file_dir = os.path.join(os.getcwd(),r'TopoBathy\\timeseries_line29\\topo')\n",
    "file_list = os.listdir(file_dir)\n",
    "\n",
    "bathy_fname = r'.\\TopoBathy\\timeseries_line29\\bathy\\sedex_20160802_line029.XYZ'\n",
    "bathy = pd.read_csv(bathy_fname,sep='\\t',names=['x','y','z'])\n",
    "\n",
    "x_model= np.arange(0, 450.0, 1)\n",
    "np.savetxt(os.path.join(os.getcwd(),r'TopoBathy\\model_series','x.txt'),x_model)\n",
    "np.savetxt(os.path.join(os.getcwd(),r'TopoBathy\\model_series','y.txt'),zeros(x_model.shape))\n",
    "\n",
    "\n",
    "\n",
    "for i in range(len(file_list)):\n",
    "    topo_fname = os.path.join(file_dir,file_list[i])\n",
    "    topo = pd.read_csv(topo_fname,sep=' ',names=['x','y','z'])\n",
    "    \n",
    "    x_temp = np.concatenate((bathy.x,topo.x[::-1]),axis=0)-226500\n",
    "    z_temp = np.concatenate((bathy.z,topo.z[::-1]),axis=0)\n",
    "    z_model_int= np.interp(x_model, x_temp[~np.isnan(z_temp)], z_temp[~np.isnan(z_temp)])\n",
    "\n",
    "    plt.plot(z_model_int)\n",
    "    np.savetxt(os.path.join(os.getcwd(),r'TopoBathy\\model_series','z_epoch_%i.txt' % i),z_model_int)\n",
    "\n",
    "                       \n",
    "                       \n",
    "    \n",
    "    #lets interpoltate on 1 m grids\n",
    "    "
   ]
  },
  {
   "cell_type": "code",
   "execution_count": 157,
   "metadata": {
    "collapsed": false
   },
   "outputs": [
    {
     "name": "stdout",
     "output_type": "stream",
     "text": [
      "z_epoch_5.txt loaded\n"
     ]
    }
   ],
   "source": [
    "print 'z_epoch_%i.txt loaded' % 5\n"
   ]
  },
  {
   "cell_type": "code",
   "execution_count": 23,
   "metadata": {
    "collapsed": false
   },
   "outputs": [
    {
     "name": "stdout",
     "output_type": "stream",
     "text": [
      "224496.22\n",
      "224500.0\n",
      "20160812\n"
     ]
    },
    {
     "data": {
      "image/png": "[encoded data removed]",
      "text/plain": [
       "<matplotlib.figure.Figure at 0x114349b0>"
      ]
     },
     "metadata": {},
     "output_type": "display_data"
    }
   ],
   "source": [
    "# read all files and make x y z matrices\n",
    "topo_fname = r'.\\TopoBathy\\timeseries_line29\\topo\\SEDEX_20160812_line029_t_processed.XYZ'\n",
    "bathy_fname = r'.\\TopoBathy\\timeseries_line29\\bathy\\sedex_20160802_line029.XYZ'\n",
    "\n",
    "bathy = pd.read_csv(bathy_fname,sep='\\t',names=['x','y','z'])\n",
    "topo = pd.read_csv(topo_fname,sep=' ',names=['x','y','z'])\n",
    "\n",
    "# y = constant (142950) for topo so we can use x as cross shore direction.\n",
    "# for bathy we have to interpolate to y = 142950\n",
    "# let's interpolate 1 meter spacing\n",
    "plt.figure(figsize(5,3))\n",
    "plt.plot(bathy.x,bathy.z)\n",
    "plt.plot(topo.x,topo.z)\n",
    "#print topo.y\n",
    "print bathy.x.min()\n",
    "print topo.x.min()\n",
    "#remove nans and interpolate on regular intervals\n",
    "#now interpolate to line\n",
    "plt.ylim(-12,6)\n",
    "plt.xlim(224500,227000)\n",
    "plt.title(['topo',topo_fname[41:49]])\n",
    "plt.savefig('test.png',dpi=600)\n",
    "print topo_fname[41:49]"
   ]
  },
  {
   "cell_type": "code",
   "execution_count": null,
   "metadata": {
    "collapsed": true
   },
   "outputs": [],
   "source": [
    "x_model= np.arange(0, 2600.0, 1)\n",
    "z_model_int= np.interp(x_model,d_model[~np.isnan(z_model)],z_model[~np.isnan(z_model)])\n",
    "plt.plot(x_model,z_model_int)\n",
    "plt.xlim(1900,2600)\n",
    "plt.ylim(-5,12)\n",
    "\n",
    "x_model[1900:2600].shape"
   ]
  },
  {
   "cell_type": "code",
   "execution_count": null,
   "metadata": {
    "collapsed": true
   },
   "outputs": [],
   "source": [
    "# now export x.txt, y.txt and z.txt\n",
    "# let consider the 1900-2600m domain\n",
    "np.savetxt('xtest.txt',x_model[1900:2600])\n",
    "np.savetxt('ytest.txt',zeros(x_model[1900:2600].shape))\n",
    "np.savetxt('ztest.txt',z_model_int[1900:2600])"
   ]
  }
 ],
 "metadata": {
  "kernelspec": {
   "display_name": "Python 2",
   "language": "python",
   "name": "python2"
  },
  "language_info": {
   "codemirror_mode": {
    "name": "ipython",
    "version": 2
   },
   "file_extension": ".py",
   "mimetype": "text/x-python",
   "name": "python",
   "nbconvert_exporter": "python",
   "pygments_lexer": "ipython2",
   "version": "2.7.11"
  }
 },
 "nbformat": 4,
 "nbformat_minor": 0
}
