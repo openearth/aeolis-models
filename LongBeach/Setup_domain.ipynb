{
 "cells": [
  {
   "cell_type": "code",
   "execution_count": 4,
   "metadata": {
    "collapsed": false
   },
   "outputs": [
    {
     "name": "stdout",
     "output_type": "stream",
     "text": [
      "Populating the interactive namespace from numpy and matplotlib\n"
     ]
    }
   ],
   "source": [
    "%pylab inline\n",
    "import numpy as np\n",
    "import pandas as pd\n",
    "import matplotlib.pyplot as plt\n"
   ]
  },
  {
   "cell_type": "code",
   "execution_count": 5,
   "metadata": {
    "collapsed": false
   },
   "outputs": [],
   "source": [
    "bathy = pd.read_csv('.\\TopoBathy\\lb14_line060_b.xyz',sep='\\t',names=['x','y','z'])\n",
    "topo = pd.read_csv('.\\TopoBathy\\lb14_line060_t.xyz',sep=' ',names=['x','y','z'])\n"
   ]
  },
  {
   "cell_type": "code",
   "execution_count": 16,
   "metadata": {
    "collapsed": false
   },
   "outputs": [
    {
     "data": {
      "text/plain": [
       "<matplotlib.legend.Legend at 0xce33940>"
      ]
     },
     "execution_count": 16,
     "metadata": {},
     "output_type": "execute_result"
    },
    {
     "data": {
      "image/png": "[encoded data removed]",
      "text/plain": [
       "<matplotlib.figure.Figure at 0xd7410f0>"
      ]
     },
     "metadata": {},
     "output_type": "display_data"
    }
   ],
   "source": [
    "d_model = np.concatenate((np.sqrt((bathy.x-bathy.x[0])**2+(bathy.y-bathy.y[0])**2),\n",
    "                          np.sqrt((topo.x-bathy.x[0])**2+(topo.y-bathy.y[0])**2)),\n",
    "                          axis=0)\n",
    "z_model = np.concatenate((bathy.z,topo.z),axis=0)\n",
    "plt.plot(d_model,z_model,label='z_level '+str([3,4]))\n",
    "plt.legend()\n",
    "#plt.hlines(-3.5,0,3000)"
   ]
  },
  {
   "cell_type": "code",
   "execution_count": 4,
   "metadata": {
    "collapsed": false
   },
   "outputs": [
    {
     "data": {
      "text/plain": [
       "(700L,)"
      ]
     },
     "execution_count": 4,
     "metadata": {},
     "output_type": "execute_result"
    },
    {
     "data": {
      "image/png": "[encoded data removed]",
      "text/plain": [
       "<matplotlib.figure.Figure at 0xbe7b7f0>"
      ]
     },
     "metadata": {},
     "output_type": "display_data"
    }
   ],
   "source": [
    "#remove nans and interpolate on regular intervals\n",
    "np.sum(np.isnan(z_model))\n",
    "#now interpolate to line\n",
    "x_model= np.arange(0, 2600.0, 1)\n",
    "z_model_int= np.interp(x_model,d_model[~np.isnan(z_model)],z_model[~np.isnan(z_model)])\n",
    "plt.plot(x_model,z_model_int)\n",
    "plt.xlim(1900,2600)\n",
    "plt.ylim(-5,12)\n",
    "\n",
    "x_model[1900:2600].shape\n",
    "\n"
   ]
  },
  {
   "cell_type": "code",
   "execution_count": 5,
   "metadata": {
    "collapsed": false
   },
   "outputs": [],
   "source": [
    "# now export x.txt, y.txt and z.txt\n",
    "# let consider the 1900-2600m domain\n",
    "np.savetxt('xtest.txt',x_model[1900:2600])\n",
    "np.savetxt('ytest.txt',zeros(x_model[1900:2600].shape))\n",
    "np.savetxt('ztest.txt',z_model_int[1900:2600])\n"
   ]
  }
 ],
 "metadata": {
  "kernelspec": {
   "display_name": "Python 2",
   "language": "python",
   "name": "python2"
  },
  "language_info": {
   "codemirror_mode": {
    "name": "ipython",
    "version": 2
   },
   "file_extension": ".py",
   "mimetype": "text/x-python",
   "name": "python",
   "nbconvert_exporter": "python",
   "pygments_lexer": "ipython2",
   "version": "2.7.11"
  }
 },
 "nbformat": 4,
 "nbformat_minor": 0
}
