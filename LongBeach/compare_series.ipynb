{
 "cells": [
  {
   "cell_type": "code",
   "execution_count": 3,
   "metadata": {
    "collapsed": false
   },
   "outputs": [
    {
     "name": "stdout",
     "output_type": "stream",
     "text": [
      "Populating the interactive namespace from numpy and matplotlib\n"
     ]
    }
   ],
   "source": [
    "%pylab inline\n",
    "import matplotlib.pyplot as plt\n",
    "import netCDF4\n"
   ]
  },
  {
   "cell_type": "code",
   "execution_count": 26,
   "metadata": {
    "collapsed": false
   },
   "outputs": [
    {
     "data": {
      "text/plain": [
       "1.1803712"
      ]
     },
     "execution_count": 26,
     "metadata": {},
     "output_type": "execute_result"
    }
   ],
   "source": [
    "fname = r'C:\\Users\\Sierd\\Desktop\\aeolisdata\\LB_series.nc'\n",
    "cshore_pos = 320\n",
    "\n",
    "with netCDF4.Dataset(fname,'r') as ds:\n",
    "    # read sediment concentrations at the end of the model domain\n",
    "    c_s = ds.variables['Ct'][:,0,cshore_pos,:]\n",
    "    # print ds.variables['Ct'].shape\n",
    "    \n",
    "fname = r'C:\\Users\\Sierd\\Desktop\\aeolisdata\\LB_series_zUpdated.nc'\n",
    "\n",
    "with netCDF4.Dataset(fname,'r') as ds:\n",
    "    # read sediment concentrations at the end of the model domain\n",
    "    c_su = ds.variables['Ct'][:,0,cshore_pos,:]\n",
    "    \n",
    "np.sum(c_su)/np.sum(c_s)"
   ]
  },
  {
   "cell_type": "code",
   "execution_count": 14,
   "metadata": {
    "collapsed": true
   },
   "outputs": [],
   "source": [
    "fname = r'C:\\Users\\Sierd\\Desktop\\aeolisdata\\LB_series_zUpdated.nc'\n",
    "\n",
    "with netCDF4.Dataset(fname,'r') as ds:\n",
    "    # read sediment concentrations at the end of the model domain\n",
    "    c_su = ds.variables['Ct'][:,0,350,:]"
   ]
  },
  {
   "cell_type": "code",
   "execution_count": 16,
   "metadata": {
    "collapsed": false
   },
   "outputs": [
    {
     "data": {
      "text/plain": [
       "1.0682554"
      ]
     },
     "execution_count": 16,
     "metadata": {},
     "output_type": "execute_result"
    }
   ],
   "source": [
    "np.sum(c_su)/np.sum(c_s)"
   ]
  }
 ],
 "metadata": {
  "kernelspec": {
   "display_name": "Python 2",
   "language": "python",
   "name": "python2"
  },
  "language_info": {
   "codemirror_mode": {
    "name": "ipython",
    "version": 2
   },
   "file_extension": ".py",
   "mimetype": "text/x-python",
   "name": "python",
   "nbconvert_exporter": "python",
   "pygments_lexer": "ipython2",
   "version": "2.7.11"
  }
 },
 "nbformat": 4,
 "nbformat_minor": 0
}
