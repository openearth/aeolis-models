{
 "cells": [
  {
   "cell_type": "code",
   "execution_count": 1,
   "metadata": {
    "collapsed": false
   },
   "outputs": [],
   "source": [
    "import os\n",
    "import numpy as np\n",
    "from matplotlib.pyplot import *\n",
    "import knmi\n",
    "import scipy\n",
    "import netCDF4\n",
    "import waterbase\n",
    "import pandas as pd\n",
    "import cPickle as pickle\n",
    "from datetime import datetime\n",
    "import aeolis\n",
    "\n",
    "root = r'D:\\Documents\\GIT_checkouts\\aeolis-models\\sandmotor'\n",
    "\n",
    "t0 = datetime(2011,8,1)\n",
    "t1 = datetime(2012,8,1)\n",
    "\n",
    "key = '20110803'"
   ]
  },
  {
   "cell_type": "markdown",
   "metadata": {},
   "source": [
    "# Model setup"
   ]
  },
  {
   "cell_type": "code",
   "execution_count": 120,
   "metadata": {
    "collapsed": false
   },
   "outputs": [],
   "source": [
    "# read wind time series\n",
    "meteo, legend = knmi.read_uurgeg(os.path.join(root, 'uurgeg_330_2011-2020.txt'))\n",
    "ix = (meteo['DD'] > 360.) | (meteo['FH'] >= 900)\n",
    "meteo = meteo.ix[~ix]\n"
   ]
  },
  {
   "cell_type": "code",
   "execution_count": 3,
   "metadata": {
    "collapsed": false
   },
   "outputs": [],
   "source": [
    "# write wind time series\n",
    "alpha = 48.\n",
    "m = meteo[t0:t1].filter(['FH','DD'])\n",
    "t = np.asarray([[x.total_seconds() for x in m.index - m.index[0]]]).T\n",
    "\n",
    "m['FH'] = m['FH'].divide(10.)\n",
    "m['DD'] = m['DD'].subtract(alpha)\n",
    "\n",
    "np.savetxt(os.path.join(root, 'wind.txt'), np.concatenate((t, m.as_matrix()), axis=1))"
   ]
  },
  {
   "cell_type": "code",
   "execution_count": 129,
   "metadata": {
    "collapsed": false
   },
   "outputs": [],
   "source": [
    "# write wind time series (10yr)\n",
    "alpha = 48.\n",
    "m = meteo[t0:t1].filter(['FH','DD'])\n",
    "t = np.asarray([[x.total_seconds() for x in m.index - m.index[0]]]).T\n",
    "   \n",
    "m['FH'] = m['FH'].divide(10.)\n",
    "m['DD'] = m['DD'].subtract(alpha)\n",
    "\n",
    "#multiply the years\n",
    "yr = 5\n",
    "t1yr = np.concatenate((t, m.as_matrix()), axis=1)\n",
    "tall = np.tile(t1yr,(yr,1))\n",
    "tfac = np.repeat(range(0,yr),t1yr[:,0].shape,axis=0)\n",
    "tall[:,0] = tall[:,0]+tfac*t1yr[-1,0] \n",
    "\n",
    "np.savetxt(os.path.join(root, 'wind_5yr.txt'), tall)"
   ]
  },
  {
   "cell_type": "code",
   "execution_count": 10,
   "metadata": {
    "collapsed": false
   },
   "outputs": [],
   "source": [
    "# read and write water levels (10yr)\n",
    "wb = waterbase.Waterbase()\n",
    "wl = wb.get_data('1', 'HOEKVHLD', t0, t1)\n",
    "t = np.asarray([[(x - wl['datetime'][0]).total_seconds() for x in wl['datetime']]]).T\n",
    "wl1yr = np.concatenate((t, wl['value'].reshape((-1,1))/100.), axis=1)\n",
    "\n",
    "yr = 10\n",
    "wlall = np.tile(wl1yr,(yr,1))\n",
    "wlfac = np.repeat(range(0,yr),wl1yr[:,0].shape,axis=0)\n",
    "wlall[:,0] = wlall[:,0]+wlfac*wl1yr[-1,0] \n",
    "\n",
    "\n",
    "np.savetxt(os.path.join(root, 'tide_10yr.txt'), wlall)"
   ]
  },
  {
   "cell_type": "code",
   "execution_count": 11,
   "metadata": {
    "collapsed": true
   },
   "outputs": [],
   "source": [
    "# read and write water levels \n",
    "wb = waterbase.Waterbase()\n",
    "wl = wb.get_data('1', 'HOEKVHLD', t0, t1)\n",
    "t = np.asarray([[(x - wl['datetime'][0]).total_seconds() for x in wl['datetime']]]).T\n",
    "\n",
    "wl = np.concatenate((t, wl['value'].reshape((-1,1))/100.), axis=1)\n",
    "\n",
    "np.savetxt(os.path.join(root, 'tide.txt'), wl)"
   ]
  },
  {
   "cell_type": "code",
   "execution_count": 12,
   "metadata": {
    "collapsed": false
   },
   "outputs": [],
   "source": [
    "# read and write wave heights\n",
    "Hs = wb.get_data('22', 'Euro platform', t0, t1)\n",
    "t = np.asarray([[(x - Hs['datetime'][0]).total_seconds() for x in Hs['datetime']]]).T\n",
    "Hs = np.concatenate((t, Hs['value'].reshape((-1,1))/100.), axis=1)\n",
    "\n",
    "np.savetxt(os.path.join(root, 'waves.txt'), Hs)"
   ]
  },
  {
   "cell_type": "code",
   "execution_count": 10,
   "metadata": {
    "collapsed": false
   },
   "outputs": [],
   "source": [
    "# read and write wave heights (10 yrs)\n",
    "wb = waterbase.Waterbase()\n",
    "Hs = wb.get_data('22', 'Euro platform', t0, t1)\n",
    "t = np.asarray([[(x - Hs['datetime'][0]).total_seconds() for x in Hs['datetime']]]).T\n",
    "Hs1yr = np.concatenate((t, Hs['value'].reshape((-1,1))/100.), axis=1)\n",
    "\n",
    "yr = 5\n",
    "Hsall = np.tile(Hs1yr,(yr,1))\n",
    "Hsfac = np.repeat(range(0,yr),Hs1yr[:,0].shape,axis=0)\n",
    "Hsall[:,0] = Hsall[:,0]+Hsfac*Hs1yr[-1,0] \n",
    "\n",
    "\n",
    "np.savetxt(os.path.join(root, 'waves_5yr.txt'), Hsall)"
   ]
  },
  {
   "cell_type": "code",
   "execution_count": 22,
   "metadata": {
    "collapsed": false,
    "scrolled": false
   },
   "outputs": [
    {
     "name": "stdout",
     "output_type": "stream",
     "text": [
      "**********************************************************\n",
      " \n",
      "         d8888                   888      d8b  .d8888b.   \n",
      "        d88888                   888      Y8P d88P  Y88b  \n",
      "       d88P888                   888          Y88b.       \n",
      "      d88P 888  .d88b.   .d88b.  888      888  \"Y888b.    \n",
      "     d88P  888 d8P  Y8b d88\"\"88b 888      888     \"Y88b.  \n",
      "    d88P   888 88888888 888  888 888      888       \"888  \n",
      "   d8888888888 Y8b.     Y88..88P 888      888 Y88b  d88P  \n",
      "  d88P     888  \"Y8888   \"Y88P\"  88888888 888  \"Y8888P\"   \n",
      " \n",
      "**********************************************************\n",
      "PARAMETER SETTINGS\n",
      "**********************************************************\n",
      "                A = 100.000000\n",
      "               Cb = 1.500000\n",
      "                F = 0.000100\n",
      "                T = 1.000000\n",
      "         bed_file = bed.txt\n",
      "     bedcomp_file = <novalue>\n",
      "        bedupdate = T\n",
      "               bi = 1.000000\n",
      "               dt = 60.000000\n",
      "              eps = 0.001000\n",
      "      evaporation = T\n",
      "           facDOD = 0.100000\n",
      "                g = 9.810000\n",
      "            gamma = 0.500000\n",
      "       grain_dist = 1.000000\n",
      "       grain_size = 0.000225\n",
      "                k = 0.010000\n",
      "  layer_thickness = 0.010000\n",
      "        max_error = 0.000001\n",
      "         max_iter = 1000\n",
      "       meteo_file = <novalue>\n",
      "     method_moist = belly_johnson\n",
      "      mixtoplayer = T\n",
      "       nfractions = 1\n",
      "          nlayers = 3\n",
      "               nx = 99\n",
      "               ny = 0\n",
      "      output_file = aeolis.nc\n",
      "     output_times = 60.000000\n",
      "     output_types = \n",
      "      output_vars = zb\n",
      "                    zs\n",
      "                    Ct\n",
      "                    Cu\n",
      "                    uw\n",
      "                    uth\n",
      "                    mass\n",
      "                    pickup\n",
      "         porosity = 0.400000\n",
      "             rhoa = 1.250000\n",
      "             rhop = 2650.000000\n",
      "             rhow = 1025.000000\n",
      "           scheme = crank_nicolson\n",
      "      th_bedslope = F\n",
      "     th_grainsize = T\n",
      "      th_humidity = F\n",
      "      th_moisture = T\n",
      "     th_roughness = F\n",
      "        tide_file = <novalue>\n",
      "           tstart = 0.000000\n",
      "            tstop = 3600.000000\n",
      "        wave_file = <novalue>\n",
      "        wind_file = wind.txt\n",
      "       xgrid_file = xgrid.txt\n",
      "       ygrid_file = ygrid.txt\n",
      "               z0 = 1.000000\n",
      "**********************************************************\n",
      "\n",
      "[  1.7%] 00:00:00 / 00:00:06 / 00:00:06\n",
      "[ 10.0%] 00:00:00 / 00:00:03 / 00:00:03\n",
      "[ 20.0%] 00:00:00 / 00:00:03 / 00:00:02\n",
      "[ 40.0%] 00:00:01 / 00:00:02 / 00:00:01\n",
      "[ 80.0%] 00:00:02 / 00:00:02 / 00:00:00\n",
      "\n",
      "**********************************************************\n",
      "# time steps         : 122\n",
      "# matrix solves      : 122\n",
      "# supply lim         : 0\n",
      "avg. solves per step : 1.000000\n",
      "avg. time step       : 29.508197\n",
      "**********************************************************\n",
      "\n"
     ]
    }
   ],
   "source": [
    "aeolis.model.AeoLiSRunner(configfile='joepie').run()"
   ]
  },
  {
   "cell_type": "markdown",
   "metadata": {},
   "source": [
    "# Plot results "
   ]
  },
  {
   "cell_type": "code",
   "execution_count": 5,
   "metadata": {
    "collapsed": false
   },
   "outputs": [
    {
     "name": "stderr",
     "output_type": "stream",
     "text": [
      "C:\\Anaconda\\lib\\site-packages\\numpy\\lib\\nanfunctions.py:227: RuntimeWarning: All-NaN axis encountered\n",
      "  warnings.warn(\"All-NaN axis encountered\", RuntimeWarning)\n",
      "C:\\Anaconda\\lib\\site-packages\\numpy\\lib\\nanfunctions.py:326: RuntimeWarning: All-NaN slice encountered\n",
      "  warnings.warn(\"All-NaN slice encountered\", RuntimeWarning)\n"
     ]
    }
   ],
   "source": [
    "def create_plot(par, data):\n",
    "    \n",
    "    # remove inf's\n",
    "    ix = np.isinf(data)\n",
    "    data[ix] = np.nan\n",
    "    \n",
    "    # remove extra dimensions\n",
    "    if data.ndim == 4:\n",
    "        data = data[:,:,0,:] # pick top layer\n",
    "    if data.ndim == 3:\n",
    "        data = data.sum(axis=-1) # sum over fractions\n",
    "    \n",
    "    # determine data range\n",
    "    mn = np.nanmin(data[1:-1,1:-1])\n",
    "    mx = np.nanmax(data[1:-1,1:-1])\n",
    "    mx = np.maximum(np.abs(mn), np.abs(mx))\n",
    "\n",
    "    if mn > -1e-10:\n",
    "        mn = 0.\n",
    "        cmap = 'Reds'\n",
    "    else:\n",
    "        mn = -mx\n",
    "        cmap = 'bwr'\n",
    "\n",
    "    # create plot\n",
    "    fig, axs = subplots(figsize=(10,4))\n",
    "    p = axs.pcolormesh(y, x, data, cmap=cmap, vmin=mn, vmax=mx)\n",
    "    axs.set_aspect('equal')\n",
    "    axs.set_title(par)\n",
    "    fig.colorbar(p)\n",
    "\n",
    "    # save plot\n",
    "    fig.savefig(os.path.join(root, 'aeolis_5year_sorting_noHydro', '%s.png' % par))\n",
    "\n",
    "    \n",
    "n = 10 # number of time steps\n",
    "with netCDF4.Dataset(os.path.join(root, 'aeolis_5year_sorting_noHydro.nc'), 'r') as ds:\n",
    "    t = ds.variables['time'][:] / 3600.\n",
    "    x = ds.variables['x'][:,:]\n",
    "    y = ds.variables['y'][:,:]\n",
    "    f = ds.variables['fractions'][:]\n",
    "    \n",
    "    nx = x.shape[1]\n",
    "    ny = y.shape[0]\n",
    "    \n",
    "    for t in np.linspace(0, len(t)-1, n):\n",
    "        \n",
    "        t = int(np.round(t))\n",
    "    \n",
    "        # bathy difference\n",
    "        data = ds.variables['zb'][...]\n",
    "        create_plot('dz_t=%d' % t, data[t,:,:] - data[0,:,:])\n",
    "\n",
    "        # mean grain size\n",
    "        data = ds.variables['mass'][...]\n",
    "        gs = ds.groups['settings'].getncattr('grain_size') * 1e6\n",
    "        #create_plot('d50_t=%d' % t,\n",
    "        #            np.asarray([np.average(gs, weights=ds.variables['mass'][t,j,i,0,:])\n",
    "        #                        for j in range(ny) for i in range(nx)]).reshape((ny, nx)))\n",
    "        \n",
    "        # other variables\n",
    "        for par in ['Ct', 'Cu', 'pickup', 'zb', 'zs']:\n",
    "            create_plot('%s_t=%d' % (par, t), ds.variables[par][t,...])"
   ]
  },
  {
   "cell_type": "code",
   "execution_count": 36,
   "metadata": {
    "collapsed": false
   },
   "outputs": [
    {
     "name": "stdout",
     "output_type": "stream",
     "text": [
      "10\n"
     ]
    }
   ],
   "source": [
    "print t"
   ]
  },
  {
   "cell_type": "code",
   "execution_count": 43,
   "metadata": {
    "collapsed": false
   },
   "outputs": [
    {
     "name": "stdout",
     "output_type": "stream",
     "text": [
      "[  731.  1462.  2193.  2924.  3655.  4386.  5117.  5848.  6579.  7310.\n",
      "  8041.]\n"
     ]
    }
   ],
   "source": [
    "\n"
   ]
  },
  {
   "cell_type": "code",
   "execution_count": null,
   "metadata": {
    "collapsed": false
   },
   "outputs": [],
   "source": []
  }
 ],
 "metadata": {
  "kernelspec": {
   "display_name": "Python 2",
   "language": "python",
   "name": "python2"
  },
  "language_info": {
   "codemirror_mode": {
    "name": "ipython",
    "version": 2
   },
   "file_extension": ".py",
   "mimetype": "text/x-python",
   "name": "python",
   "nbconvert_exporter": "python",
   "pygments_lexer": "ipython2",
   "version": "2.7.11"
  }
 },
 "nbformat": 4,
 "nbformat_minor": 0
}
