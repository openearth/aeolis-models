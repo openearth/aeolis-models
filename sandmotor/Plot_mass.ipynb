{
 "cells": [
  {
   "cell_type": "code",
   "execution_count": 4,
   "metadata": {
    "collapsed": false
   },
   "outputs": [
    {
     "name": "stdout",
     "output_type": "stream",
     "text": [
      "Populating the interactive namespace from numpy and matplotlib\n"
     ]
    }
   ],
   "source": [
    "%pylab inline\n",
    "import netCDF4\n",
    "import os\n",
    "import numpy as np\n",
    "import matplotlib.pyplot as plt\n",
    "import matplotlib.animation as animation\n",
    "import pickle\n",
    "\n",
    "\n",
    "root = r'C:\\Users\\Sierd\\python\\aeolis-models\\sandmotor'\n",
    "\n",
    "# load colormap\n",
    "#fp = open('cmap.pkl', 'rb')\n",
    "#shore_map = pickle.load(fp)\n",
    "#fp.close()\n"
   ]
  },
  {
   "cell_type": "code",
   "execution_count": 72,
   "metadata": {
    "collapsed": false
   },
   "outputs": [],
   "source": [
    "def create_plot(par, data):\n",
    "    \n",
    "    # remove inf's\n",
    "    ix = np.isinf(data)\n",
    "    data[ix] = np.nan\n",
    "    \n",
    "    # remove extra dimensions\n",
    "    if data.ndim == 4:\n",
    "        data = data[:,:,0,:] # pick top layer\n",
    "    if data.ndim == 3:\n",
    "        data = data.sum(axis=-1) # sum over fractions\n",
    "    \n",
    "    # determine data range\n",
    "    mn = np.nanmin(data[1:-1,1:-1])\n",
    "    mx = np.nanmax(data[1:-1,1:-1])\n",
    "    mx = np.maximum(np.abs(mn), np.abs(mx))\n",
    "\n",
    "    if mn > -1e-10:\n",
    "        mn = 0.\n",
    "        cmap = 'Reds'\n",
    "    elif par[0:2] == 'zb':\n",
    "        cmap = shore_map\n",
    "        mn = -12\n",
    "        mx = 8\n",
    "    else:\n",
    "        mn = -mx\n",
    "        cmap = 'bwr'\n",
    "\n",
    "    # create plot\n",
    "    fig, axs = plt.subplots(figsize=(10,4))\n",
    "    p = axs.pcolormesh(y, x, data, cmap=cmap, vmin=mn, vmax=mx)\n",
    "    axs.set_aspect('equal')\n",
    "    axs.set_title(par)\n",
    "    fig.colorbar(p)\n",
    "      \n",
    "\n",
    "    # save plot\n",
    "    fig.savefig(os.path.join(root, 'aeolis_year_all_thick', '%s.png' % par))\n",
    "\n",
    "    \n",
    "n = 20 # number of time steps\n",
    "\n",
    "with netCDF4.Dataset(os.path.join(root, 'aeolis_year_all_thick.nc'), 'r') as ds:\n",
    "    t = ds.variables['time'][:] / 3600.\n",
    "    x = ds.variables['x'][:,:]\n",
    "    y = ds.variables['y'][:,:]\n",
    "    f = ds.variables['fractions'][:]\n",
    "    \n",
    "    nx = x.shape[1]\n",
    "    ny = y.shape[0]\n",
    "    \n",
    "    for t in np.linspace(0, len(t)-1, n):\n",
    "        \n",
    "        t = int(np.round(t))\n",
    "    \n",
    "        # bathy difference\n",
    "        data = ds.variables['zb'][...]\n",
    "#         create_plot('dz_t=%d' % t, data[t,:,:] - data[0,:,:])\n",
    "\n",
    "        # mean grain size\n",
    "        #data = ds.variables['mass'][...]\n",
    "        #gs = ds.groups['settings'].getncattr('grain_size') * 1e6\n",
    "        #create_plot('d50_t=%d' % t,\n",
    "        #            np.asarray([np.average(gs, weights=ds.variables['mass'][t,j,i,0,:])\n",
    "        #                        for j in range(ny) for i in range(nx)]).reshape((ny, nx)))\n",
    "        \n",
    "        # other variables\n",
    "#         for par in ['Ct', 'Cu', 'pickup', 'zb', 'zs']:\n",
    "#             create_plot('%s_t=%d' % (par, t), ds.variables[par][t,...])\n",
    "        #for par in ['zb']:\n",
    "        #    create_plot('%s_t=%d' % (par, t), ds.variables[par][t,...])"
   ]
  },
  {
   "cell_type": "code",
   "execution_count": 5,
   "metadata": {
    "collapsed": false,
    "scrolled": true
   },
   "outputs": [
    {
     "data": {
      "text/plain": [
       "[<matplotlib.lines.Line2D at 0xa3e2e48>]"
      ]
     },
     "execution_count": 5,
     "metadata": {},
     "output_type": "execute_result"
    },
    {
     "data": {
      "image/png": "[encoded data removed]",
      "text/plain": [
       "<matplotlib.figure.Figure at 0x3e2cf98>"
      ]
     },
     "metadata": {},
     "output_type": "display_data"
    }
   ],
   "source": [
    "ds = netCDF4.Dataset(os.path.join(root, 'aeolis_10year_nothing_e.nc'), 'r')\n",
    "data = ds.variables['zb'][...]\n",
    "\n",
    "blown_mass = np.zeros(data.shape[0])\n",
    "for i in range(0,data.shape[0]):\n",
    "     blown_mass[i] = np.sum((data[i,:,:]-data[0,:,:]).flatten()[(data[i,:,:]-data[0,:,:]).flatten()<0])\n",
    "        \n",
    "plt.plot(blown_mass,'r')\n",
    "\n",
    "######################################\n",
    "ds = netCDF4.Dataset(os.path.join(root, 'aeolis_10year_all_thick_e.nc'), 'r')\n",
    "data = ds.variables['zb'][...]\n",
    "\n",
    "blown_mass = np.zeros(data.shape[0])\n",
    "for i in range(0,data.shape[0]):\n",
    "     blown_mass[i] = np.sum((data[i,:,:]-data[0,:,:]).flatten()[(data[i,:,:]-data[0,:,:]).flatten()<0])\n",
    "        \n",
    "plt.plot(blown_mass,'b')\n",
    "\n",
    "######################################\n",
    "ds = netCDF4.Dataset(os.path.join(root, 'aeolis_10year_sorting_noHydro_e.nc'), 'r')\n",
    "data = ds.variables['zb'][...]\n",
    "\n",
    "blown_mass = np.zeros(data.shape[0])\n",
    "for i in range(0,data.shape[0]):\n",
    "     blown_mass[i] = np.sum((data[i,:,:]-data[0,:,:]).flatten()[(data[i,:,:]-data[0,:,:]).flatten()<0])\n",
    "        \n",
    "plt.plot(blown_mass,'g')"
   ]
  },
  {
   "cell_type": "code",
   "execution_count": 23,
   "metadata": {
    "collapsed": false
   },
   "outputs": [
    {
     "name": "stdout",
     "output_type": "stream",
     "text": [
      "[  50.  100.  150.  200.  250.  300.  350.  400.  450.  500.  550.]\n",
      "0.0303749\n",
      "0.655514\n",
      "260.576429638\n"
     ]
    }
   ],
   "source": [
    "with netCDF4.Dataset(os.path.join(root, 'aeolis_year_all.nc'), 'r') as ds:\n",
    "    t = ds.variables['time'][:] / 3600.\n",
    "    x = ds.variables['x'][:,:]\n",
    "    y = ds.variables['y'][:,:]\n",
    "    f = ds.variables['fractions'][:]\n",
    "\n",
    "    nx = x.shape[1]\n",
    "    ny = y.shape[0]\n",
    "    data = ds.variables['mass'][...]\n",
    "    gs = ds.groups['settings'].getncattr('grain_size') * 1e6\n",
    "    d50 = np.asarray([np.average(gs, weights=ds.variables['mass'][0,j,i,0,:]) for j in range(ny) for i in range(nx)]).reshape((ny, nx))\n",
    "\n",
    "    print gs\n",
    "    print data[0,:,:,0,0].min()\n",
    "    print data[0,:,:,0,0].max()\n",
    "\n",
    "    print d50.min()"
   ]
  },
  {
   "cell_type": "code",
   "execution_count": 69,
   "metadata": {
    "collapsed": false
   },
   "outputs": [
    {
     "name": "stdout",
     "output_type": "stream",
     "text": [
      "(11L, 80L, 30L, 10L, 11L)\n",
      "(11L,)\n",
      "530.0\n",
      "530.0\n",
      "[  731.  1462.  2193.  2924.  3655.  4386.  5117.  5848.  6579.  7310.\n",
      "  8041.]\n"
     ]
    },
    {
     "data": {
      "image/png": "[encoded data removed]",
      "text/plain": [
       "<matplotlib.figure.Figure at 0x116d9dd8>"
      ]
     },
     "metadata": {},
     "output_type": "display_data"
    }
   ],
   "source": [
    "nl = -1\n",
    "t1 = 0\n",
    "\n",
    "with netCDF4.Dataset(os.path.join(root, 'aeolis_year_all_thick.nc'), 'r') as ds:\n",
    "    t = ds.variables['time'][:] / 3600.\n",
    "    x = ds.variables['x'][:,:]\n",
    "    y = ds.variables['y'][:,:]\n",
    "    f = ds.variables['fractions'][:]\n",
    "\n",
    "    nx = x.shape[1]\n",
    "    ny = y.shape[0]\n",
    "    data = ds.variables['mass'][...]\n",
    "    print data.shape\n",
    "    print f.shape\n",
    "    mass_sum = np.sum(data, axis=4)\n",
    "    p = plt.pcolor(mass_sum[t1,:,:,nl])\n",
    "    colorbar(p)\n",
    "    \n",
    "    print mass_sum[t1,:,:,nl].min()\n",
    "    print mass_sum[t1,:,:,nl].max()\n",
    "    print t\n"
   ]
  },
  {
   "cell_type": "code",
   "execution_count": null,
   "metadata": {
    "collapsed": true
   },
   "outputs": [],
   "source": [
    "np.sum"
   ]
  }
 ],
 "metadata": {
  "kernelspec": {
   "display_name": "Python 2",
   "language": "python",
   "name": "python2"
  },
  "language_info": {
   "codemirror_mode": {
    "name": "ipython",
    "version": 2
   },
   "file_extension": ".py",
   "mimetype": "text/x-python",
   "name": "python",
   "nbconvert_exporter": "python",
   "pygments_lexer": "ipython2",
   "version": "2.7.11"
  }
 },
 "nbformat": 4,
 "nbformat_minor": 0
}
