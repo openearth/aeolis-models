{
 "cells": [
  {
   "cell_type": "code",
   "execution_count": 1,
   "metadata": {
    "collapsed": false
   },
   "outputs": [
    {
     "name": "stdout",
     "output_type": "stream",
     "text": [
      "D:\\Documents\\GIT_checkouts\\aeolis-models\\sandmotor\n"
     ]
    }
   ],
   "source": [
    "import os\n",
    "import numpy as np\n",
    "from matplotlib.pyplot import *\n",
    "import knmi\n",
    "import scipy\n",
    "import netCDF4\n",
    "import waterbase\n",
    "import pandas as pd\n",
    "import cPickle as pickle\n",
    "from datetime import datetime\n",
    "import aeolis\n",
    "\n",
    "root = r'D:\\Documents\\GIT_checkouts\\aeolis-models\\sandmotor'\n",
    "\n",
    "print root\n",
    "\n",
    "t0 = datetime(2011,8,1)\n",
    "t1 = datetime(2012,8,1)\n",
    "\n",
    "key = '20110803'"
   ]
  },
  {
   "cell_type": "code",
   "execution_count": 2,
   "metadata": {
    "collapsed": false
   },
   "outputs": [
    {
     "ename": "IOError",
     "evalue": "[Errno 2] No such file or directory: '/Users/hoonhout/Checkouts/Zandmotor/morphology/JETSKI/bathy_gridded.pkl'",
     "output_type": "error",
     "traceback": [
      "\u001b[1;31m---------------------------------------------------------------------------\u001b[0m",
      "\u001b[1;31mIOError\u001b[0m                                   Traceback (most recent call last)",
      "\u001b[1;32m<ipython-input-2-d7528c424c3d>\u001b[0m in \u001b[0;36m<module>\u001b[1;34m()\u001b[0m\n\u001b[0;32m      1\u001b[0m \u001b[1;31m# read bathy\u001b[0m\u001b[1;33m\u001b[0m\u001b[1;33m\u001b[0m\u001b[0m\n\u001b[1;32m----> 2\u001b[1;33m \u001b[1;32mwith\u001b[0m \u001b[0mopen\u001b[0m\u001b[1;33m(\u001b[0m\u001b[1;34m'/Users/hoonhout/Checkouts/Zandmotor/morphology/JETSKI/bathy_gridded.pkl'\u001b[0m\u001b[1;33m,\u001b[0m \u001b[1;34m'rb'\u001b[0m\u001b[1;33m)\u001b[0m \u001b[1;32mas\u001b[0m \u001b[0mfp\u001b[0m\u001b[1;33m:\u001b[0m\u001b[1;33m\u001b[0m\u001b[0m\n\u001b[0m\u001b[0;32m      3\u001b[0m     \u001b[0mgrid\u001b[0m \u001b[1;33m=\u001b[0m \u001b[0mpickle\u001b[0m\u001b[1;33m.\u001b[0m\u001b[0mload\u001b[0m\u001b[1;33m(\u001b[0m\u001b[0mfp\u001b[0m\u001b[1;33m)\u001b[0m\u001b[1;33m\u001b[0m\u001b[0m\n",
      "\u001b[1;31mIOError\u001b[0m: [Errno 2] No such file or directory: '/Users/hoonhout/Checkouts/Zandmotor/morphology/JETSKI/bathy_gridded.pkl'"
     ]
    }
   ],
   "source": [
    "# read bathy\n",
    "with open('/Users/hoonhout/Checkouts/Zandmotor/morphology/JETSKI/bathy_gridded.pkl', 'rb') as fp:\n",
    "    grid = pickle.load(fp)"
   ]
  },
  {
   "cell_type": "markdown",
   "metadata": {},
   "source": [
    "# Model setup"
   ]
  },
  {
   "cell_type": "code",
   "execution_count": null,
   "metadata": {
    "collapsed": false
   },
   "outputs": [],
   "source": [
    "def rotate(x, y, phi, origin=(72502.0, 452074.0)):\n",
    "\n",
    "    x = np.asarray(x)\n",
    "    y = np.asarray(y)\n",
    "    phi = phi / 180. * np.pi\n",
    "\n",
    "    R = np.asarray([[np.cos(phi), -np.sin(phi)],\n",
    "                    [np.sin(phi),  np.cos(phi)]])\n",
    "\n",
    "    XY = np.concatenate((x.reshape(-1,1) - origin[0],\n",
    "                         y.reshape(-1,1) - origin[1]), axis=1)\n",
    "\n",
    "    XY = np.dot(XY, R)\n",
    "    xr = XY[:,0].reshape(x.shape)\n",
    "    yr = XY[:,1].reshape(y.shape)\n",
    "    \n",
    "    return xr, yr\n",
    "\n",
    "\n",
    "# select and rotate bathy\n",
    "alpha = 48.\n",
    "X, Y = rotate(grid['X'], grid['Y'], alpha)\n",
    "Z = grid['Z'][key]"
   ]
  },
  {
   "cell_type": "code",
   "execution_count": null,
   "metadata": {
    "collapsed": false
   },
   "outputs": [],
   "source": [
    "# interpolate bathy to computational grid and write to file\n",
    "\n",
    "d = 50\n",
    "x = np.arange(-500,  1000, d)\n",
    "y = np.arange(-1500, 2500, d)\n",
    "\n",
    "Xr, Yr = np.meshgrid(x, y)\n",
    "np.savetxt(os.path.join(root, 'x.txt'), Xr)\n",
    "np.savetxt(os.path.join(root, 'y.txt'), Yr)\n",
    "\n",
    "for i, key in enumerate(sorted(grid['Z'].keys())):\n",
    "    Z = grid['Z'][key]\n",
    "    \n",
    "    ix = ~np.isnan(Z.flatten())\n",
    "    Zr = scipy.interpolate.griddata((Y.flatten()[ix],\n",
    "                                     X.flatten()[ix]),\n",
    "                                    Z.flatten()[ix],\n",
    "                                    (Xr.flatten(),\n",
    "                                     Yr.flatten()), method='nearest').reshape(Xr.shape)\n",
    "\n",
    "    np.savetxt(os.path.join(root, 'z_%d.txt' % i), Zr)\n",
    "\n",
    "print Zr.shape"
   ]
  },
  {
   "cell_type": "code",
   "execution_count": null,
   "metadata": {
    "collapsed": false
   },
   "outputs": [],
   "source": [
    "# plot computational bathy\n",
    "\n",
    "fig, axs = subplots()\n",
    "axs.pcolormesh(Yr, Xr, Zr, cmap='Spectral', vmin=-10, vmax=10)\n",
    "axs.set_xlim((-1500, 2500))\n",
    "axs.set_ylim((-500, 1000))\n",
    "axs.set_aspect('equal')"
   ]
  },
  {
   "cell_type": "code",
   "execution_count": null,
   "metadata": {
    "collapsed": false
   },
   "outputs": [],
   "source": [
    "# read wind time series\n",
    "meteo, legend = knmi.read_uurgeg(os.path.join(root, 'uurgeg_330_2011-2020.txt'))\n",
    "ix = (meteo['DD'] > 360.) | (meteo['FH'] >= 900)\n",
    "meteo = meteo.ix[~ix]\n"
   ]
  },
  {
   "cell_type": "code",
   "execution_count": null,
   "metadata": {
    "collapsed": false
   },
   "outputs": [],
   "source": [
    "# write wind time series\n",
    "alpha = 48.\n",
    "m = meteo[t0:t1].filter(['FH','DD'])\n",
    "t = np.asarray([[x.total_seconds() for x in m.index - m.index[0]]]).T\n",
    "\n",
    "m['FH'] = m['FH'].divide(10.)\n",
    "m['DD'] = m['DD'].subtract(alpha)\n",
    "\n",
    "np.savetxt(os.path.join(root, 'wind.txt'), np.concatenate((t, m.as_matrix()), axis=1))"
   ]
  },
  {
   "cell_type": "code",
   "execution_count": null,
   "metadata": {
    "collapsed": false
   },
   "outputs": [],
   "source": [
    "# read and write water levels\n",
    "wb = waterbase.Waterbase()\n",
    "wl = wb.get_data('1', 'HOEKVHLD', t0, t1)\n",
    "t = np.asarray([[(x - wl['datetime'][0]).total_seconds() for x in wl['datetime']]]).T\n",
    "wl = np.concatenate((t, wl['value'].reshape((-1,1))/100.), axis=1)\n",
    "\n",
    "np.savetxt(os.path.join(root, 'tide.txt'), wl)"
   ]
  },
  {
   "cell_type": "code",
   "execution_count": null,
   "metadata": {
    "collapsed": false
   },
   "outputs": [],
   "source": [
    "# read and write wave heights\n",
    "Hs = wb.get_data('22', 'Euro platform', t0, t1)\n",
    "t = np.asarray([[(x - Hs['datetime'][0]).total_seconds() for x in Hs['datetime']]]).T\n",
    "Hs = np.concatenate((t, Hs['value'].reshape((-1,1))/100.), axis=1)\n",
    "\n",
    "np.savetxt(os.path.join(root, 'waves.txt'), Hs)"
   ]
  },
  {
   "cell_type": "code",
   "execution_count": null,
   "metadata": {
    "collapsed": false,
    "scrolled": true
   },
   "outputs": [],
   "source": [
    "aeolis.model.AeoLiSRunner(configfile='aeolis.txt').run(callback='update.py:update_bed')"
   ]
  },
  {
   "cell_type": "markdown",
   "metadata": {},
   "source": [
    "# Plot results "
   ]
  },
  {
   "cell_type": "code",
   "execution_count": null,
   "metadata": {
    "collapsed": false
   },
   "outputs": [],
   "source": [
    "def create_plot(par, data):\n",
    "    \n",
    "    # remove inf's\n",
    "    ix = np.isinf(data)\n",
    "    data[ix] = np.nan\n",
    "    \n",
    "    # remove extra dimensions\n",
    "    if data.ndim == 4:\n",
    "        data = data[:,:,0,:] # pick top layer\n",
    "    if data.ndim == 3:\n",
    "        data = data.sum(axis=-1) # sum over fractions\n",
    "    \n",
    "    # determine data range\n",
    "    mn = np.nanmin(data[1:-1,1:-1])\n",
    "    mx = np.nanmax(data[1:-1,1:-1])\n",
    "    mx = np.maximum(np.abs(mn), np.abs(mx))\n",
    "\n",
    "    if mn > -1e-10:\n",
    "        mn = 0.\n",
    "        cmap = 'Reds'\n",
    "    else:\n",
    "        mn = -mx\n",
    "        cmap = 'bwr'\n",
    "\n",
    "    # create plot\n",
    "    fig, axs = subplots(figsize=(10,4))\n",
    "    p = axs.pcolormesh(y, x, data, cmap=cmap, vmin=mn, vmax=mx)\n",
    "    axs.set_aspect('equal')\n",
    "    axs.set_title(par)\n",
    "    fig.colorbar(p)\n",
    "\n",
    "    # save plot\n",
    "    fig.savefig(os.path.join(root, 'plots', '%s.png' % par))\n",
    "\n",
    "    \n",
    "n = 10 # number of time steps\n",
    "with netCDF4.Dataset(os.path.join(root, 'aeolis.nc'), 'r') as ds:\n",
    "    t = ds.variables['time'][:] / 3600.\n",
    "    x = ds.variables['x'][:,:]\n",
    "    y = ds.variables['y'][:,:]\n",
    "    f = ds.variables['fractions'][:]\n",
    "    \n",
    "    nx = x.shape[1]\n",
    "    ny = y.shape[0]\n",
    "    \n",
    "    for t in np.linspace(1, len(t)-1, n):\n",
    "        \n",
    "        t = int(np.round(t))\n",
    "    \n",
    "        # bathy difference\n",
    "        data = ds.variables['zb'][...]\n",
    "        create_plot('dz_t=%d' % t, data[t,:,:] - data[0,:,:])\n",
    "\n",
    "        # mean grain size\n",
    "        data = ds.variables['mass'][...]\n",
    "        gs = ds.groups['settings'].getncattr('grain_size') * 1e6\n",
    "        create_plot('d50_t=%d' % t,\n",
    "                    np.asarray([np.average(gs, weights=ds.variables['mass'][t,j,i,0,:])\n",
    "                                for j in range(ny) for i in range(nx)]).reshape((ny, nx)))\n",
    "        \n",
    "        # other variables\n",
    "        for par in ['Ct', 'Cu', 'pickup', 'zb', 'zs']:\n",
    "            create_plot('%s_t=%d' % (par, t), ds.variables[par][t,...])"
   ]
  },
  {
   "cell_type": "code",
   "execution_count": null,
   "metadata": {
    "collapsed": false
   },
   "outputs": [],
   "source": []
  },
  {
   "cell_type": "code",
   "execution_count": null,
   "metadata": {
    "collapsed": false
   },
   "outputs": [],
   "source": []
  },
  {
   "cell_type": "code",
   "execution_count": null,
   "metadata": {
    "collapsed": false
   },
   "outputs": [],
   "source": []
  }
 ],
 "metadata": {
  "kernelspec": {
   "display_name": "Python 2",
   "language": "python",
   "name": "python2"
  },
  "language_info": {
   "codemirror_mode": {
    "name": "ipython",
    "version": 2
   },
   "file_extension": ".py",
   "mimetype": "text/x-python",
   "name": "python",
   "nbconvert_exporter": "python",
   "pygments_lexer": "ipython2",
   "version": "2.7.11"
  }
 },
 "nbformat": 4,
 "nbformat_minor": 0
}
